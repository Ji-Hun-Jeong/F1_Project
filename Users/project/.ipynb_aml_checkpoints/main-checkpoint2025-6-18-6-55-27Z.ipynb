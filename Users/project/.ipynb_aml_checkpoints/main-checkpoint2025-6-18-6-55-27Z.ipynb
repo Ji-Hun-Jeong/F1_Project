{
 "cells": [
  {
   "cell_type": "code",
   "execution_count": null,
   "id": "6fcce414",
   "metadata": {},
   "outputs": [
    {
     "ename": "",
     "evalue": "",
     "output_type": "error",
     "traceback": [
      "\u001b[1;31m커널을 시작하지 못했습니다. \n",
      "\u001b[1;31mKernel is dead. \n",
      "\u001b[1;31m자세한 내용은 Jupyter <a href='command:jupyter.viewOutput'>로그</a>를 참조하세요."
     ]
    }
   ],
   "source": [
    "#from Users.project.data_container.data_container import AzureStorageAccess\n",
    "from data_container.data_container import AzureStorageAccess\n",
    "folder_access = AzureStorageAccess()"
   ]
  },
  {
   "cell_type": "code",
   "execution_count": 15,
   "id": "77e7adec",
   "metadata": {},
   "outputs": [
    {
     "name": "stdout",
     "output_type": "stream",
     "text": [
      "                          Date      RPM  Speed  nGear  Throttle  Brake  DRS  \\\n",
      "0      2018-03-23 01:00:33.525   7930.0   63.0      1      24.0  False    8   \n",
      "1      2018-03-23 01:00:33.766   8587.0   65.0      1      26.0  False    8   \n",
      "2      2018-03-23 01:00:34.005   8744.0   68.0      1      32.0  False    8   \n",
      "3      2018-03-23 01:00:34.285   9944.0   76.0      1      37.0  False    8   \n",
      "4      2018-03-23 01:00:34.525  10588.0   82.0      1      44.0  False    8   \n",
      "...                        ...      ...    ...    ...       ...    ...  ...   \n",
      "23460  2018-03-23 02:35:12.542   3776.0   67.0      0       0.0  False    8   \n",
      "23461  2018-03-23 02:35:12.743   3701.0   66.0      0       0.0   True    8   \n",
      "23462  2018-03-23 02:35:12.983   3521.0   64.0      0       0.0   True    8   \n",
      "23463  2018-03-23 02:35:13.223   3438.0   61.0      0       0.0   True    8   \n",
      "23464  2018-03-23 02:35:13.463   3301.0   56.0      0       0.0   True    8   \n",
      "\n",
      "      Source                    Time             SessionTime     Distance  \\\n",
      "0        car  0 days 00:00:00.208000  0 days 00:04:32.801000     3.640000   \n",
      "1        car  0 days 00:00:00.449000  0 days 00:04:33.042000     7.991389   \n",
      "2        car  0 days 00:00:00.688000  0 days 00:04:33.281000    12.505833   \n",
      "3        car  0 days 00:00:00.968000  0 days 00:04:33.561000    18.416944   \n",
      "4        car  0 days 00:00:01.208000  0 days 00:04:33.801000    23.883611   \n",
      "...      ...                     ...                     ...          ...   \n",
      "23460    car  0 days 00:01:42.146000  0 days 01:39:11.818000  4982.873611   \n",
      "23461    car  0 days 00:01:42.347000  0 days 01:39:12.019000  4986.558611   \n",
      "23462    car  0 days 00:01:42.587000  0 days 01:39:12.259000  4990.825278   \n",
      "23463    car  0 days 00:01:42.827000  0 days 01:39:12.499000  4994.891944   \n",
      "23464    car  0 days 00:01:43.067000  0 days 01:39:12.739000  4998.625278   \n",
      "\n",
      "       LapNumber  \n",
      "0            1.0  \n",
      "1            1.0  \n",
      "2            1.0  \n",
      "3            1.0  \n",
      "4            1.0  \n",
      "...          ...  \n",
      "23460       16.0  \n",
      "23461       16.0  \n",
      "23462       16.0  \n",
      "23463       16.0  \n",
      "23464       16.0  \n",
      "\n",
      "[22672 rows x 12 columns]\n"
     ]
    }
   ],
   "source": [
    "blob_name = \"2018/2018_Australian_Grand_Prix_FP1/ALO/car_data_all.csv\"\n",
    "\n",
    "data_frame = folder_access.read_csv_by_data_frame(blob_name)\n",
    "\n",
    "print(data_frame[\"Time\"])"
   ]
  },
  {
   "cell_type": "code",
   "execution_count": 10,
   "id": "cdb9d65a",
   "metadata": {},
   "outputs": [
    {
     "name": "stdout",
     "output_type": "stream",
     "text": [
      "                        Date      RPM  Speed  nGear  Throttle  Brake  DRS  \\\n",
      "0    2018-03-23 02:16:39.531  10642.0  294.0      8      99.0  False   14   \n",
      "1    2018-03-23 02:16:39.771  10719.0  295.0      8      99.0  False   14   \n",
      "2    2018-03-23 02:16:40.011  10752.0  296.0      8      99.0  False   14   \n",
      "3    2018-03-23 02:16:40.251  10756.0  296.0      8      99.0  False   14   \n",
      "4    2018-03-23 02:16:40.491  10819.0  297.0      8      99.0  False   14   \n",
      "..                       ...      ...    ...    ...       ...    ...  ...   \n",
      "349  2018-03-23 02:18:04.252  10358.0  285.0      8      99.0  False   14   \n",
      "350  2018-03-23 02:18:04.492  10453.0  287.0      8      99.0  False   14   \n",
      "351  2018-03-23 02:18:04.732  10475.0  288.0      8      99.0  False   14   \n",
      "352  2018-03-23 02:18:04.972  10545.0  291.0      8      99.0  False   14   \n",
      "353  2018-03-23 02:18:05.212  10600.0  292.0      8      99.0  False   14   \n",
      "\n",
      "    Source                    Time             SessionTime     Distance  \\\n",
      "0      car  0 days 00:00:00.132000  0 days 01:20:38.807000    10.780000   \n",
      "1      car  0 days 00:00:00.372000  0 days 01:20:39.047000    30.446667   \n",
      "2      car  0 days 00:00:00.612000  0 days 01:20:39.287000    50.180000   \n",
      "3      car  0 days 00:00:00.852000  0 days 01:20:39.527000    69.913333   \n",
      "4      car  0 days 00:00:01.092000  0 days 01:20:39.767000    89.713333   \n",
      "..     ...                     ...                     ...          ...   \n",
      "349    car  0 days 00:01:24.853000  0 days 01:22:03.528000  5184.710000   \n",
      "350    car  0 days 00:01:25.093000  0 days 01:22:03.768000  5203.843333   \n",
      "351    car  0 days 00:01:25.333000  0 days 01:22:04.008000  5223.043333   \n",
      "352    car  0 days 00:01:25.573000  0 days 01:22:04.248000  5242.443333   \n",
      "353    car  0 days 00:01:25.813000  0 days 01:22:04.488000  5261.910000   \n",
      "\n",
      "     LapNumber  \n",
      "0          9.0  \n",
      "1          9.0  \n",
      "2          9.0  \n",
      "3          9.0  \n",
      "4          9.0  \n",
      "..         ...  \n",
      "349        9.0  \n",
      "350        9.0  \n",
      "351        9.0  \n",
      "352        9.0  \n",
      "353        9.0  \n",
      "\n",
      "[354 rows x 12 columns]\n"
     ]
    },
    {
     "ename": "",
     "evalue": "",
     "output_type": "error",
     "traceback": [
      "\u001b[1;31mnotebook controller is DISPOSED. \n",
      "\u001b[1;31m자세한 내용은 Jupyter <a href='command:jupyter.viewOutput'>로그</a>를 참조하세요."
     ]
    }
   ],
   "source": [
    "blob_name = \"2018/2018_Australian_Grand_Prix_FP1/ALO/car_data_fastest.csv\"\n",
    "\n",
    "data_frame = folder_access.read_csv_by_data_frame(blob_name)\n",
    "\n",
    "print(data_frame)"
   ]
  },
  {
   "cell_type": "code",
   "execution_count": null,
   "id": "f7f66e9b",
   "metadata": {},
   "outputs": [
    {
     "ename": "",
     "evalue": "",
     "output_type": "error",
     "traceback": [
      "\u001b[1;31mnotebook controller is DISPOSED. \n",
      "\n",
      "\n",
      "\n",
      "\n",
      "\n",
      "\n",
      "\n",
      "\n",
      "\n",
      "\n",
      "\n",
      "\n",
      "\n",
      "\n",
      "\n",
      "\u001b[1;31m자세한 내용은 Jupyter <a href='command:jupyter.viewOutput'>로그</a>를 참조하세요."
     ]
    }
   ],
   "source": [
    "blob_name = \"2018/2018_Australian_Grand_Prix_FP1/ALO/laps.csv\"\n",
    "\n",
    "data_frame = folder_access.read_csv_by_data_frame(blob_name)\n",
    "\n",
    "for colum in data_frame.columns.tolist():\n",
    "    print(colum)"
   ]
  }
 ],
 "metadata": {
  "kernelspec": {
   "display_name": "Python 3 (ipykernel)",
   "language": "python",
   "name": "python3"
  }
 },
 "nbformat": 4,
 "nbformat_minor": 5
}
