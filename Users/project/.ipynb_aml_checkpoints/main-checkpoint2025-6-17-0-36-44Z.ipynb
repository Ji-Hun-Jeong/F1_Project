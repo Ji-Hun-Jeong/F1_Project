{
 "cells": [
  {
   "cell_type": "code",
   "execution_count": null,
   "id": "6fcce414",
   "metadata": {},
   "outputs": [],
   "source": [
    "#from Users.project.data_container.data_container import AzureStorageAccess\n",
    "from data_container.data_container import AzureStorageAccess\n",
    "folder_access = AzureStorageAccess()"
   ]
  },
  {
   "cell_type": "code",
   "execution_count": null,
   "id": "77e7adec",
   "metadata": {},
   "outputs": [],
   "source": [
    "blob_name = \"2018/2018_Australian_Grand_Prix_FP1/ALO/car_data_all.csv\"\n",
    "\n",
    "data_frame = folder_access.read_csv_by_data_frame(blob_name)\n",
    "\n",
    "print(data_frame[data_frame[\"LapNumber\"] == 16.0])"
   ]
  },
  {
   "cell_type": "code",
   "execution_count": 22,
   "id": "cdb9d65a",
   "metadata": {},
   "outputs": [
    {
     "name": "stdout",
     "output_type": "stream",
     "text": [
      "                        Date      RPM  Speed  nGear  Throttle  Brake  DRS  \\\n",
      "0    2018-03-23 02:16:39.531  10642.0  294.0      8      99.0  False   14   \n",
      "1    2018-03-23 02:16:39.771  10719.0  295.0      8      99.0  False   14   \n",
      "2    2018-03-23 02:16:40.011  10752.0  296.0      8      99.0  False   14   \n",
      "3    2018-03-23 02:16:40.251  10756.0  296.0      8      99.0  False   14   \n",
      "4    2018-03-23 02:16:40.491  10819.0  297.0      8      99.0  False   14   \n",
      "..                       ...      ...    ...    ...       ...    ...  ...   \n",
      "349  2018-03-23 02:18:04.252  10358.0  285.0      8      99.0  False   14   \n",
      "350  2018-03-23 02:18:04.492  10453.0  287.0      8      99.0  False   14   \n",
      "351  2018-03-23 02:18:04.732  10475.0  288.0      8      99.0  False   14   \n",
      "352  2018-03-23 02:18:04.972  10545.0  291.0      8      99.0  False   14   \n",
      "353  2018-03-23 02:18:05.212  10600.0  292.0      8      99.0  False   14   \n",
      "\n",
      "    Source                    Time             SessionTime     Distance  \\\n",
      "0      car  0 days 00:00:00.132000  0 days 01:20:38.807000    10.780000   \n",
      "1      car  0 days 00:00:00.372000  0 days 01:20:39.047000    30.446667   \n",
      "2      car  0 days 00:00:00.612000  0 days 01:20:39.287000    50.180000   \n",
      "3      car  0 days 00:00:00.852000  0 days 01:20:39.527000    69.913333   \n",
      "4      car  0 days 00:00:01.092000  0 days 01:20:39.767000    89.713333   \n",
      "..     ...                     ...                     ...          ...   \n",
      "349    car  0 days 00:01:24.853000  0 days 01:22:03.528000  5184.710000   \n",
      "350    car  0 days 00:01:25.093000  0 days 01:22:03.768000  5203.843333   \n",
      "351    car  0 days 00:01:25.333000  0 days 01:22:04.008000  5223.043333   \n",
      "352    car  0 days 00:01:25.573000  0 days 01:22:04.248000  5242.443333   \n",
      "353    car  0 days 00:01:25.813000  0 days 01:22:04.488000  5261.910000   \n",
      "\n",
      "     LapNumber  \n",
      "0          9.0  \n",
      "1          9.0  \n",
      "2          9.0  \n",
      "3          9.0  \n",
      "4          9.0  \n",
      "..         ...  \n",
      "349        9.0  \n",
      "350        9.0  \n",
      "351        9.0  \n",
      "352        9.0  \n",
      "353        9.0  \n",
      "\n",
      "[354 rows x 12 columns]\n"
     ]
    }
   ],
   "source": [
    "blob_name = \"2018/2018_Australian_Grand_Prix_FP1/ALO/car_data_fastest.csv\"\n",
    "\n",
    "data_frame = folder_access.read_csv_by_data_frame(blob_name)\n",
    "\n",
    "print(data_frame)"
   ]
  },
  {
   "cell_type": "code",
   "execution_count": null,
   "id": "f7f66e9b",
   "metadata": {},
   "outputs": [],
   "source": [
    "blob_name = \"2018/2018_Australian_Grand_Prix_FP1/ALO/laps.csv\"\n",
    "\n",
    "data_frame = folder_access.read_csv_by_data_frame(blob_name)\n",
    "\n",
    "for colum in data_frame.columns.tolist():\n",
    "    print(colum)"
   ]
  }
 ],
 "metadata": {
  "kernelspec": {
   "display_name": "Python 3 (ipykernel)",
   "language": "python",
   "name": "python3"
  },
  "language_info": {
   "codemirror_mode": {
    "name": "ipython",
    "version": 3
   },
   "file_extension": ".py",
   "mimetype": "text/x-python",
   "name": "python",
   "nbconvert_exporter": "python",
   "pygments_lexer": "ipython3",
   "version": "3.10.16"
  }
 },
 "nbformat": 4,
 "nbformat_minor": 5
}
