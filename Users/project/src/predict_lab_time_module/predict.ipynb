{
 "cells": [
  {
   "cell_type": "code",
   "execution_count": null,
   "id": "93999ce6",
   "metadata": {},
   "outputs": [
    {
     "name": "stdout",
     "output_type": "stream",
     "text": [
      "The autoreload extension is already loaded. To reload it, use:\n",
      "  %reload_ext autoreload\n",
      "cuda\n"
     ]
    }
   ],
   "source": [
    "%load_ext autoreload\n",
    "%autoreload 2\n",
    "import torch\n",
    "import pandas as pd\n",
    "import numpy as np\n",
    "import os\n",
    "from torch import nn, optim\n",
    "\n",
    "from Users.project.src.deep_learning_pipeline.context import Context\n",
    "from Users.project.predict_lab_time_module.all_track_model import AllTrackModelCreator\n",
    "\n",
    "device = torch.device(\"cuda\" if torch.cuda.is_available() else \"cpu\")\n",
    "print(device)\n",
    "\n",
    "# 스케일링 해야됌\n",
    "log_path = \"./Users/project/log/\"\n",
    "save_dir = os.path.join(log_path, \"AllTrack\")\n",
    "\n",
    "context = Context(device)\n",
    "model_creator = AllTrackModelCreator()"
   ]
  },
  {
   "cell_type": "code",
   "execution_count": null,
   "id": "e5aa85e7",
   "metadata": {},
   "outputs": [
    {
     "name": "stdout",
     "output_type": "stream",
     "text": [
      "The autoreload extension is already loaded. To reload it, use:\n",
      "  %reload_ext autoreload\n"
     ]
    },
    {
     "name": "stdout",
     "output_type": "stream",
     "text": [
      "행: 55089, 최댓값: 3.8162689208984375, 0.5이상: 28, 0.25이상: 72, 0.1이상: 234\n"
     ]
    }
   ],
   "source": [
    "%load_ext autoreload\n",
    "%autoreload 2\n",
    "model_path = os.path.join(save_dir, \"best_model_checkpoint.pth\")\n",
    "context.prepare_scaling_dataset_from_file()\n",
    "\n",
    "context.convert_to_train_dataset(0.99, 42)\n",
    "\n",
    "context.test(model_creator, model_path)"
   ]
  }
 ],
 "metadata": {
  "kernelspec": {
   "display_name": "Python 3 (ipykernel)",
   "language": "python",
   "name": "python3"
  },
  "language_info": {
   "codemirror_mode": {
    "name": "ipython",
    "version": 3
   },
   "file_extension": ".py",
   "mimetype": "text/x-python",
   "name": "python",
   "nbconvert_exporter": "python",
   "pygments_lexer": "ipython3",
   "version": "3.10.18"
  }
 },
 "nbformat": 4,
 "nbformat_minor": 5
}
