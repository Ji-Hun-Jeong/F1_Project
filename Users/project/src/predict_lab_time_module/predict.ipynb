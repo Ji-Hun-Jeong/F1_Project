{
 "cells": [
  {
   "cell_type": "code",
   "execution_count": 48,
   "id": "93999ce6",
   "metadata": {},
   "outputs": [
    {
     "name": "stdout",
     "output_type": "stream",
     "text": [
      "The autoreload extension is already loaded. To reload it, use:\n",
      "  %reload_ext autoreload\n",
      "cpu\n"
     ]
    }
   ],
   "source": [
    "%load_ext autoreload\n",
    "%autoreload 2\n",
    "from Users.project.src.base.logger import SaveLogger\n",
    "from Users.project.src.deep_learning_pipeline.model_creator import ModelManager\n",
    "from Users.project.src.deep_learning_pipeline.scaler_manager import ScalerManager\n",
    "from Users.project.src.predict_lab_time_module.all_track_model import SimpleModel_64_Hidden_2_Creator\n",
    "from Users.project.src.predict_lab_time_module.lap_data_collector import LapDataCollector, arrange_feature_and_label_has_nan\n",
    "import torch\n",
    "import pandas as pd\n",
    "import numpy as np\n",
    "import os\n",
    "from torch import nn, optim\n",
    "\n",
    "from Users.project.src.deep_learning_pipeline.context import Context\n",
    "\n",
    "device = torch.device(\"cuda\" if torch.cuda.is_available() else \"cpu\")\n",
    "print(device)\n",
    "\n",
    "model_info_path = os.path.join(\"Users\", \"project\", \"model\", \"lap_time_predict\")\n",
    "model_save_path = os.path.join(model_info_path, \"best_checkpoint.pth\")\n",
    "scaler_save_path = os.path.join(model_info_path, \"best_scaler.joblib\")\n",
    "model_manager = ModelManager(model_save_path)\n",
    "scaler_manager = ScalerManager(scaler_save_path)\n",
    "context = Context(device, model_manager, scaler_manager)\n",
    "\n",
    "model_creator = SimpleModel_64_Hidden_2_Creator()\n",
    "lap_data_collector = LapDataCollector()\n",
    "logger = SaveLogger()"
   ]
  },
  {
   "cell_type": "code",
   "execution_count": 49,
   "id": "4f573e6f",
   "metadata": {},
   "outputs": [
    {
     "name": "stdout",
     "output_type": "stream",
     "text": [
      "The autoreload extension is already loaded. To reload it, use:\n",
      "  %reload_ext autoreload\n"
     ]
    }
   ],
   "source": [
    "%load_ext autoreload\n",
    "%autoreload 2\n",
    "correct_game_file_path = os.path.join(\"Users\", \"project\", \"correct_file\", \"correct_game\")\n",
    "game_list = []\n",
    "with open(correct_game_file_path, \"r\", encoding=\"utf-8\") as file:\n",
    "    for f in file.readlines():\n",
    "        game_list.append(f)"
   ]
  },
  {
   "cell_type": "code",
   "execution_count": 55,
   "id": "e5aa85e7",
   "metadata": {},
   "outputs": [
    {
     "name": "stdout",
     "output_type": "stream",
     "text": [
      "The autoreload extension is already loaded. To reload it, use:\n",
      "  %reload_ext autoreload\n",
      "행 1: 예측값=71.6345, 실제값=71.6340, 차이=0.0005\n",
      "행 2: 예측값=71.3974, 실제값=71.3940, 차이=0.0034\n",
      "행 3: 예측값=70.5523, 실제값=70.5550, 차이=0.0027\n",
      "행 4: 예측값=70.5394, 실제값=70.5410, 차이=0.0016\n",
      "행 5: 예측값=70.9365, 실제값=70.9350, 차이=0.0015\n",
      "행 6: 예측값=71.2287, 실제값=71.2290, 차이=0.0003\n",
      "행 7: 예측값=70.8821, 실제값=70.8830, 차이=0.0009\n",
      "행 8: 예측값=70.9820, 실제값=70.9810, 차이=0.0010\n",
      "행 9: 예측값=71.4339, 실제값=71.4250, 차이=0.0089\n",
      "행 10: 예측값=71.2297, 실제값=71.2140, 차이=0.0157\n",
      "행 11: 예측값=70.9310, 실제값=70.9240, 차이=0.0070\n",
      "행 12: 예측값=70.6341, 실제값=70.6320, 차이=0.0021\n",
      "행 13: 예측값=70.1248, 실제값=70.1220, 차이=0.0028\n",
      "행 14: 예측값=70.0646, 실제값=70.0660, 차이=0.0014\n",
      "행 15: 예측값=70.1629, 실제값=70.1630, 차이=0.0001\n",
      "행 16: 예측값=70.3719, 실제값=70.3710, 차이=0.0009\n",
      "행 17: 예측값=70.3223, 실제값=70.3190, 차이=0.0033\n",
      "행 18: 예측값=70.3719, 실제값=70.3720, 차이=0.0001\n",
      "행 19: 예측값=70.1919, 실제값=70.1920, 차이=0.0001\n",
      "행 20: 예측값=69.9224, 실제값=69.9210, 차이=0.0014\n",
      "행 21: 예측값=69.8464, 실제값=69.8460, 차이=0.0004\n",
      "행 22: 예측값=70.3697, 실제값=70.3620, 차이=0.0077\n",
      "행 23: 예측값=70.2862, 실제값=70.2700, 차이=0.0163\n",
      "행 24: 예측값=70.2040, 실제값=70.1990, 차이=0.0050\n",
      "행 25: 예측값=70.5691, 실제값=70.5610, 차이=0.0081\n",
      "행 26: 예측값=69.0699, 실제값=69.0710, 차이=0.0011\n",
      "행 27: 예측값=69.3613, 실제값=69.3630, 차이=0.0017\n",
      "행 28: 예측값=69.2370, 실제값=69.2370, 차이=0.0000\n",
      "행 29: 예측값=69.2811, 실제값=69.2770, 차이=0.0041\n",
      "행 30: 예측값=68.7892, 실제값=68.7820, 차이=0.0072\n",
      "행 31: 예측값=69.1240, 실제값=69.1260, 차이=0.0020\n",
      "행 32: 예측값=69.5893, 실제값=69.5920, 차이=0.0027\n",
      "행 33: 예측값=69.1559, 실제값=69.1560, 차이=0.0001\n",
      "행 34: 예측값=69.3453, 실제값=69.3450, 차이=0.0003\n",
      "행 35: 예측값=68.8757, 실제값=68.8760, 차이=0.0003\n",
      "행 36: 예측값=68.7993, 실제값=68.7990, 차이=0.0003\n",
      "행 37: 예측값=68.7730, 실제값=68.7720, 차이=0.0010\n",
      "행 38: 예측값=68.9046, 실제값=68.9040, 차이=0.0006\n",
      "행 39: 예측값=68.8747, 실제값=68.8740, 차이=0.0007\n",
      "행 40: 예측값=68.6203, 실제값=68.6190, 차이=0.0013\n",
      "행 41: 예측값=69.1067, 실제값=69.1040, 차이=0.0027\n",
      "행 42: 예측값=69.4601, 실제값=69.4600, 차이=0.0001\n",
      "행 43: 예측값=69.3489, 실제값=69.3500, 차이=0.0011\n",
      "행 44: 예측값=69.6029, 실제값=69.6030, 차이=0.0001\n",
      "행 45: 예측값=69.0620, 실제값=69.0600, 차이=0.0020\n",
      "행 46: 예측값=69.1065, 실제값=69.1040, 차이=0.0025\n",
      "행 47: 예측값=69.2578, 실제값=69.2540, 차이=0.0038\n",
      "행 48: 예측값=69.3529, 실제값=69.3500, 차이=0.0029\n",
      "행 49: 예측값=69.3286, 실제값=69.3280, 차이=0.0006\n",
      "행 50: 예측값=69.6065, 실제값=69.6050, 차이=0.0014\n",
      "행 51: 예측값=69.5043, 실제값=69.4970, 차이=0.0073\n",
      "행 52: 예측값=69.6267, 실제값=69.6120, 차이=0.0147\n",
      "행 53: 예측값=69.5343, 실제값=69.5290, 차이=0.0053\n",
      "행 54: 예측값=70.5563, 실제값=70.5530, 차이=0.0033\n",
      "행 55: 예측값=69.8638, 실제값=69.8620, 차이=0.0018\n",
      "행 56: 예측값=69.6362, 실제값=69.6280, 차이=0.0082\n",
      "행 57: 예측값=69.5754, 실제값=69.5590, 차이=0.0164\n",
      "행 58: 예측값=69.7207, 실제값=69.7170, 차이=0.0037\n",
      "행 59: 예측값=69.7428, 실제값=69.7400, 차이=0.0028\n",
      "행 60: 예측값=69.5283, 실제값=69.5240, 차이=0.0043\n",
      "행 61: 예측값=69.4031, 실제값=69.3980, 차이=0.0051\n",
      "행 62: 예측값=69.8284, 실제값=69.8240, 차이=0.0044\n",
      "행 63: 예측값=69.7121, 실제값=69.7070, 차이=0.0051\n",
      "행 64: 예측값=69.8541, 실제값=69.8510, 차이=0.0032\n",
      "행 65: 예측값=70.2879, 실제값=70.2850, 차이=0.0029\n",
      "행 66: 예측값=70.2448, 실제값=70.2360, 차이=0.0088\n",
      "행 67: 예측값=69.9257, 실제값=69.9140, 차이=0.0117\n",
      "행 68: 예측값=69.6982, 실제값=69.6930, 차이=0.0051\n",
      "행: 57, 최댓값: 0.0164337158203125, 0.5이상: 0, 0.25이상: 0, 0.1이상: 0\n"
     ]
    },
    {
     "name": "stderr",
     "output_type": "stream",
     "text": [
      "/anaconda/envs/jupyter_env/lib/python3.10/site-packages/sklearn/base.py:440: InconsistentVersionWarning: Trying to unpickle estimator StandardScaler from version 1.7.1 when using version 1.7.0. This might lead to breaking code or invalid results. Use at your own risk. For more info please refer to:\n",
      "https://scikit-learn.org/stable/model_persistence.html#security-maintainability-limitations\n",
      "  warnings.warn(\n"
     ]
    }
   ],
   "source": [
    "%load_ext autoreload\n",
    "%autoreload 2\n",
    "\n",
    "from random import Random\n",
    "\n",
    "from Users.project.src.data_container.data_container import AzureStorageAccess\n",
    "\n",
    "\n",
    "rand = Random()\n",
    "game = rand.choice(game_list)\n",
    "game = game.replace(\"\\n\", \"\")\n",
    "data_access = AzureStorageAccess()\n",
    "\n",
    "car_data_file = game + \"car_data_all.csv\"\n",
    "laps_file = game + \"laps.csv\"\n",
    "weather_file = game[0 : -4] + \"weather_data.csv\"\n",
    "\n",
    "car_data = data_access.get_file_by_data_frame(car_data_file)\n",
    "laps_data = data_access.get_file_by_data_frame(laps_file)\n",
    "weather_data = data_access.get_file_by_data_frame(weather_file)\n",
    "\n",
    "feature, label = arrange_feature_and_label_has_nan(car_data, laps_data, weather_data)\n",
    "\n",
    "context.test_df(feature, label, model_creator, logger)\n",
    "log = logger.get_str()\n",
    "logger.clear_log()\n",
    "print(log)"
   ]
  }
 ],
 "metadata": {
  "kernelspec": {
   "display_name": "Python 3 (ipykernel)",
   "language": "python",
   "name": "python3"
  },
  "language_info": {
   "codemirror_mode": {
    "name": "ipython",
    "version": 3
   },
   "file_extension": ".py",
   "mimetype": "text/x-python",
   "name": "python",
   "nbconvert_exporter": "python",
   "pygments_lexer": "ipython3",
   "version": "3.10.16"
  }
 },
 "nbformat": 4,
 "nbformat_minor": 5
}
