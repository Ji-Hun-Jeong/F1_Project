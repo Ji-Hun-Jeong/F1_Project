{
 "cells": [
  {
   "cell_type": "code",
   "execution_count": 1,
   "id": "93999ce6",
   "metadata": {},
   "outputs": [
    {
     "name": "stdout",
     "output_type": "stream",
     "text": [
      "cuda\n"
     ]
    }
   ],
   "source": [
    "from Users.project.data_container.data_container import AzureStorageAccess\n",
    "from Users.project.predict_lab_time_module.data_state import DataFeaturing, EFeatureType\n",
    "from Users.project.predict_lab_time_module.predict_lap_time import PredictLapTime\n",
    "from Users.project.train_process.model_predictor import MyModelPredictor\n",
    "from Users.project.train_process.my_utils import extract_track_from_path, timedelta_to_seconds\n",
    "import torch\n",
    "\n",
    "device = torch.device(\"cuda\" if torch.cuda.is_available() else \"cpu\")\n",
    "print(device)\n",
    "predict_lap_time_process = PredictLapTime(device)\n",
    "file_name = \"2024/2024_United_States_Grand_Prix_R/ALB/car_data_all.csv\"\n",
    "fa = AzureStorageAccess()\n",
    "df = fa.read_csv_by_data_frame(file_name)\n",
    "featuring = DataFeaturing()\n",
    "track_name = extract_track_from_path(file_name)\n"
   ]
  },
  {
   "cell_type": "code",
   "execution_count": 2,
   "id": "e92009f7",
   "metadata": {},
   "outputs": [
    {
     "ename": "KeyError",
     "evalue": "'United_States_Grand_Prix'",
     "output_type": "error",
     "traceback": [
      "\u001b[0;31m---------------------------------------------------------------------------\u001b[0m",
      "\u001b[0;31mKeyError\u001b[0m                                  Traceback (most recent call last)",
      "Cell \u001b[0;32mIn[2], line 43\u001b[0m\n\u001b[1;32m     40\u001b[0m     prev_lap_number \u001b[38;5;241m=\u001b[39m current_lap_number\n\u001b[1;32m     41\u001b[0m     prev_lap_time \u001b[38;5;241m=\u001b[39m current_lap_time\n\u001b[0;32m---> 43\u001b[0m \u001b[43mpredict_lap_time_process\u001b[49m\u001b[38;5;241;43m.\u001b[39;49m\u001b[43mpredict_one_sample\u001b[49m\u001b[43m(\u001b[49m\u001b[43mx_data\u001b[49m\u001b[43m,\u001b[49m\u001b[43m \u001b[49m\u001b[43my_data\u001b[49m\u001b[43m,\u001b[49m\u001b[43m \u001b[49m\u001b[43mtrack_name\u001b[49m\u001b[43m)\u001b[49m\n",
      "File \u001b[0;32m/mnt/batch/tasks/shared/LS_root/mounts/clusters/jeonggpucomputer/code/Users/project/predict_lab_time_module/predict_lap_time.py:95\u001b[0m, in \u001b[0;36mPredictLapTime.predict_one_sample\u001b[0;34m(self, x_data, y_data, track_name)\u001b[0m\n\u001b[1;32m     94\u001b[0m \u001b[38;5;28;01mdef\u001b[39;00m\u001b[38;5;250m \u001b[39m\u001b[38;5;21mpredict_one_sample\u001b[39m(\u001b[38;5;28mself\u001b[39m, x_data, y_data, track_name):\n\u001b[0;32m---> 95\u001b[0m     unit \u001b[38;5;241m=\u001b[39m \u001b[38;5;28;43mself\u001b[39;49m\u001b[38;5;241;43m.\u001b[39;49m\u001b[43mtrack_name_unit_dict\u001b[49m\u001b[43m[\u001b[49m\u001b[43mtrack_name\u001b[49m\u001b[43m]\u001b[49m\n\u001b[1;32m     96\u001b[0m     model \u001b[38;5;241m=\u001b[39m \u001b[38;5;28mself\u001b[39m\u001b[38;5;241m.\u001b[39mmodel_loader\u001b[38;5;241m.\u001b[39mload_model(\u001b[38;5;124mf\u001b[39m\u001b[38;5;124m\"\u001b[39m\u001b[38;5;132;01m{\u001b[39;00mtrack_name\u001b[38;5;132;01m}\u001b[39;00m\u001b[38;5;124m_model.pth\u001b[39m\u001b[38;5;124m\"\u001b[39m)\n\u001b[1;32m     97\u001b[0m     \u001b[38;5;28mself\u001b[39m\u001b[38;5;241m.\u001b[39mmodel_predictor\u001b[38;5;241m.\u001b[39mpredict_model(x_data, y_data, model, \u001b[38;5;28mself\u001b[39m\u001b[38;5;241m.\u001b[39mdevice)\n",
      "\u001b[0;31mKeyError\u001b[0m: 'United_States_Grand_Prix'"
     ]
    }
   ],
   "source": [
    "rpm = []\n",
    "speed = []\n",
    "gear = []\n",
    "throttle = []\n",
    "brake = []\n",
    "drs = []\n",
    "x_data = []\n",
    "y_data = []\n",
    "prev_lap_number = 1.0\n",
    "prev_lap_time = 0.\n",
    "for row in df.itertuples():\n",
    "    rpm.append(row.RPM)\n",
    "    speed.append(row.Speed)\n",
    "    gear.append(row.nGear)\n",
    "    t = row.Throttle\n",
    "    if t > 100:\n",
    "        t = 100\n",
    "    throttle.append(t)\n",
    "    brake.append(row.Brake)\n",
    "    drs.append(row.DRS)\n",
    "    current_lap_number = row.LapNumber\n",
    "    current_lap_time = row.Time\n",
    "    if prev_lap_number != current_lap_number:\n",
    "        # 한 랩이 끝났을 때 저장해둔 모든 데이터로 피쳐만들고 라벨(시간)만들\n",
    "        feature = []\n",
    "        label = timedelta_to_seconds(prev_lap_time)\n",
    "        feature += featuring.feature_by_list(speed, EFeatureType.Basic | EFeatureType.ZeroRatio)                            \n",
    "        feature += featuring.feature_by_list(rpm, EFeatureType.Basic | EFeatureType.ZeroRatio)                               \n",
    "        feature += featuring.feature_by_list(gear, EFeatureType.Basic | EFeatureType.Change | EFeatureType.Boolean)       \n",
    "        feature += featuring.feature_by_list(throttle, EFeatureType.Change | EFeatureType.Boolean)    \n",
    "        feature += featuring.feature_by_list(brake, EFeatureType.Boolean)                          \n",
    "        feature += featuring.feature_by_list(drs, EFeatureType.Change | EFeatureType.ZeroRatio | EFeatureType.Boolean)         \n",
    "        feature += [featuring.trend_feature(speed).item()]    \n",
    "        feature += [featuring.trend_feature(rpm).item()]       \n",
    "        feature += [featuring.trend_feature(throttle).item()] \n",
    "        rpm.clear(); speed.clear(); gear.clear(); throttle.clear(); brake.clear(); drs.clear()\n",
    "        x_data.append(feature)\n",
    "        y_data.append(label)\n",
    "        break\n",
    "    prev_lap_number = current_lap_number\n",
    "    prev_lap_time = current_lap_time\n",
    "\n",
    "predict_lap_time_process.predict_one_sample(x_data, y_data, track_name)"
   ]
  },
  {
   "cell_type": "code",
   "execution_count": 3,
   "id": "d31ad623",
   "metadata": {},
   "outputs": [
    {
     "name": "stdout",
     "output_type": "stream",
     "text": [
      "TrackNameNotFound:  United_States_Grand_Prix\n"
     ]
    }
   ],
   "source": [
    "predict_lap_time_process.predict_file(file_name)"
   ]
  }
 ],
 "metadata": {
  "kernelspec": {
   "display_name": "Python 3 (ipykernel)",
   "language": "python",
   "name": "python3"
  }
 },
 "nbformat": 4,
 "nbformat_minor": 5
}
