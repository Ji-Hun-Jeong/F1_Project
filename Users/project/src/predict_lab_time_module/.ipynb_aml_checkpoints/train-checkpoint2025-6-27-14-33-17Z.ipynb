{
  "cells": [
    {
      "cell_type": "code",
      "execution_count": null,
      "id": "3c8b21ab",
      "metadata": {
        "gather": {
          "logged": 1753458560684
        }
      },
      "outputs": [],
      "source": [
        "%load_ext autoreload\n",
        "%autoreload 2\n",
        "from Users.project.predict_lab_time_module.predict_lap_time import PredictLapTime\n",
        "import torch\n",
        "\n",
        "device = torch.device(\"cuda\" if torch.cuda.is_available() else \"cpu\")\n",
        "print(device)\n",
        "\n",
        "predict_lap_time_module = PredictLapTime(device)\n",
        "predict_lap_time_module.train()\n",
        "predict_lap_time_module.decide_greatest_model()\n",
        "predict_lap_time_module.save_all_track_greatest_models()"
      ]
    },
    {
      "cell_type": "code",
      "execution_count": null,
      "id": "a31bdeab",
      "metadata": {},
      "outputs": [],
      "source": [
        "%load_ext autoreload\n",
        "%autoreload 2\n"
      ]
    },
    {
      "cell_type": "code",
      "execution_count": null,
      "id": "137d7b3d",
      "metadata": {},
      "outputs": [],
      "source": []
    }
  ],
  "metadata": {
    "kernel_info": {
      "name": "python3"
    },
    "kernelspec": {
      "display_name": "Python 3 (ipykernel)",
      "language": "python",
      "name": "python3"
    },
    "language_info": {
      "codemirror_mode": {
        "name": "ipython",
        "version": 3
      },
      "file_extension": ".py",
      "mimetype": "text/x-python",
      "name": "python",
      "nbconvert_exporter": "python",
      "pygments_lexer": "ipython3",
      "version": "3.10.16"
    },
    "nteract": {
      "version": "nteract-front-end@1.0.0"
    }
  },
  "nbformat": 4,
  "nbformat_minor": 5
}
